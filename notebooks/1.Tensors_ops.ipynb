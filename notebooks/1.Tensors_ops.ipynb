{
 "cells": [
  {
   "cell_type": "markdown",
   "id": "f3402399-e76b-4887-947c-7f724c49d095",
   "metadata": {},
   "source": [
    "### Working with Tensors"
   ]
  },
  {
   "cell_type": "code",
   "execution_count": 1,
   "id": "e2cf6ab5-a1f7-4df9-93cb-df056df06f29",
   "metadata": {},
   "outputs": [],
   "source": [
    "# imports\n",
    "import torch\n",
    "import math\n",
    "from pprint import pprint"
   ]
  },
  {
   "cell_type": "markdown",
   "id": "9b54ec5a-3bb2-4bbf-acb9-89eee2402ddd",
   "metadata": {},
   "source": [
    "#### 1. creating tensors with factory functions"
   ]
  },
  {
   "cell_type": "code",
   "execution_count": 2,
   "id": "5422406d-264e-44ea-8a7f-1143c0130ec1",
   "metadata": {},
   "outputs": [
    {
     "data": {
      "text/plain": [
       "tensor([[ 9.1437e-35, -1.8693e+29,  3.2264e+01, -1.9705e-10],\n",
       "        [-7.0247e+31,  3.2264e+01,  3.2092e-39,  1.2469e-36],\n",
       "        [ 1.0989e-22, -1.9438e+29,  2.9310e-14,  1.2871e-05]])"
      ]
     },
     "execution_count": 2,
     "metadata": {},
     "output_type": "execute_result"
    }
   ],
   "source": [
    "# Create an empty tensor\n",
    "n_rows, n_cols = 3, 4\n",
    "empty_tensor = torch.empty(n_rows, n_cols)\n",
    "empty_tensor"
   ]
  },
  {
   "cell_type": "code",
   "execution_count": 3,
   "id": "8457e918-3005-48c8-a636-94a12bfe3eb7",
   "metadata": {},
   "outputs": [
    {
     "data": {
      "text/plain": [
       "tensor([[0., 0., 0., 0.],\n",
       "        [0., 0., 0., 0.],\n",
       "        [0., 0., 0., 0.]])"
      ]
     },
     "execution_count": 3,
     "metadata": {},
     "output_type": "execute_result"
    }
   ],
   "source": [
    "### Tensor initialization on creation\n",
    "zeros_tensor = torch.zeros(n_rows, n_cols)\n",
    "zeros_tensor\n"
   ]
  },
  {
   "cell_type": "code",
   "execution_count": 4,
   "id": "bd5dfd65-1331-4b12-9828-fd7c6aca613e",
   "metadata": {},
   "outputs": [
    {
     "data": {
      "text/plain": [
       "tensor([[1., 1., 1., 1.],\n",
       "        [1., 1., 1., 1.],\n",
       "        [1., 1., 1., 1.]])"
      ]
     },
     "execution_count": 4,
     "metadata": {},
     "output_type": "execute_result"
    }
   ],
   "source": [
    "ones_tensor = torch.ones(n_rows, n_cols)\n",
    "ones_tensor"
   ]
  },
  {
   "cell_type": "code",
   "execution_count": 5,
   "id": "f70c393c-6881-41f1-9764-f1eada71f5bc",
   "metadata": {},
   "outputs": [
    {
     "data": {
      "text/plain": [
       "tensor([[0.8823, 0.9150, 0.3829, 0.9593],\n",
       "        [0.3904, 0.6009, 0.2566, 0.7936],\n",
       "        [0.9408, 0.1332, 0.9346, 0.5936]])"
      ]
     },
     "execution_count": 5,
     "metadata": {},
     "output_type": "execute_result"
    }
   ],
   "source": [
    "## set the seed so this values will be regenerated again\n",
    "torch.manual_seed(42)\n",
    "randoms_tensor = torch.rand(n_rows, n_cols)\n",
    "randoms_tensor"
   ]
  },
  {
   "cell_type": "code",
   "execution_count": 6,
   "id": "b17e301e-a56b-418c-810f-6a8c2eb4331b",
   "metadata": {},
   "outputs": [
    {
     "data": {
      "text/plain": [
       "tensor([[-1.4855e+15,  3.2701e-41,  0.0000e+00,  0.0000e+00],\n",
       "        [        nan,  6.0090e-01,  1.7753e+28,  4.4339e+27],\n",
       "        [ 1.7975e+19,  6.9481e+22,  5.5757e-02,  1.8728e+31]])"
      ]
     },
     "execution_count": 6,
     "metadata": {},
     "output_type": "execute_result"
    }
   ],
   "source": [
    "# creating tensors with same dimensions( as an exisiting tensors\n",
    "empty_like_empty_tensor = torch.empty_like(empty_tensor)\n",
    "rand_like_random_tensor = torch.rand_like(randoms_tensor)\n",
    "empty_like_empty_tensor"
   ]
  },
  {
   "cell_type": "code",
   "execution_count": 7,
   "id": "33797fcf-b4ec-440f-91ab-114fc33f5d6c",
   "metadata": {},
   "outputs": [
    {
     "data": {
      "text/plain": [
       "tensor([[0., 0., 0., 0.],\n",
       "        [0., 0., 0., 0.],\n",
       "        [0., 0., 0., 0.]])"
      ]
     },
     "execution_count": 7,
     "metadata": {},
     "output_type": "execute_result"
    }
   ],
   "source": [
    "zeros_like_zeros_tensor = torch.zeros_like(zeros_tensor)\n",
    "zeros_like_zeros_tensor"
   ]
  },
  {
   "cell_type": "code",
   "execution_count": 8,
   "id": "2c495b9b-133a-4711-8ced-ddf7284e9cea",
   "metadata": {},
   "outputs": [
    {
     "data": {
      "text/plain": [
       "tensor([[0.8694, 0.5677, 0.7411, 0.4294],\n",
       "        [0.8854, 0.5739, 0.2666, 0.6274],\n",
       "        [0.2696, 0.4414, 0.2969, 0.8317]])"
      ]
     },
     "execution_count": 8,
     "metadata": {},
     "output_type": "execute_result"
    }
   ],
   "source": [
    " rand_like_random_tensor"
   ]
  },
  {
   "cell_type": "code",
   "execution_count": 9,
   "id": "492f330f-51fe-4312-b6b6-37083f896668",
   "metadata": {},
   "outputs": [],
   "source": [
    "assert rand_like_random_tensor.shape == randoms_tensor.shape,\" not equals shape\""
   ]
  },
  {
   "cell_type": "code",
   "execution_count": 10,
   "id": "a0dea6d3-5528-4730-b4ed-d187662c31f1",
   "metadata": {},
   "outputs": [
    {
     "data": {
      "text/plain": [
       "(tensor([[3.1400e+00, 2.7000e+00],\n",
       "         [1.6000e+00, 2.7000e-03]]),\n",
       " torch.Size([2, 2]),\n",
       " torch.float32)"
      ]
     },
     "execution_count": 10,
     "metadata": {},
     "output_type": "execute_result"
    }
   ],
   "source": [
    "### creating tensors with data instatiation\n",
    "some_constants = torch.tensor([[3.14, 2.7],[1.6, 0.0027]]) # using list of list\n",
    "some_constants, some_constants.shape, some_constants.dtype\n"
   ]
  },
  {
   "cell_type": "code",
   "execution_count": 11,
   "id": "e6291b82-8050-4224-8e7d-b1cd9239b986",
   "metadata": {},
   "outputs": [
    {
     "data": {
      "text/plain": [
       "(tensor([ 1,  2,  3, 35]), torch.Size([4]), torch.int64)"
      ]
     },
     "execution_count": 11,
     "metadata": {},
     "output_type": "execute_result"
    }
   ],
   "source": [
    "some_ints = torch.tensor((1,2,3,35)) # using tuples\n",
    "some_ints, some_ints.shape, some_ints.dtype"
   ]
  },
  {
   "cell_type": "code",
   "execution_count": 12,
   "id": "8df66fdc-4b76-413a-ab6e-2a354304f160",
   "metadata": {},
   "outputs": [
    {
     "data": {
      "text/plain": [
       "(tensor([[1, 2, 3],\n",
       "         [4, 5, 6],\n",
       "         [0, 3, 6]], dtype=torch.int8),\n",
       " torch.Size([3, 3]),\n",
       " torch.int8)"
      ]
     },
     "execution_count": 12,
     "metadata": {},
     "output_type": "execute_result"
    }
   ],
   "source": [
    "more_ints = torch.tensor(([1,2.3,3], (4,5,6), [i*3 for i in range(0,3)] ), dtype=torch.int8) # using different collections types and assigning data types\n",
    "more_ints, more_ints.shape, more_ints.dtype"
   ]
  },
  {
   "cell_type": "code",
   "execution_count": 13,
   "id": "162e9d24-5836-4a9d-990f-70bc99c769b5",
   "metadata": {},
   "outputs": [
    {
     "data": {
      "text/plain": [
       "tensor([[1, 2, 3],\n",
       "        [4, 5, 6],\n",
       "        [0, 3, 6]], dtype=torch.int8)"
      ]
     },
     "execution_count": 13,
     "metadata": {},
     "output_type": "execute_result"
    }
   ],
   "source": [
    "# convert to the datatype to another type,\n",
    "more_ints.to(torch.float64)# its seems you can't type cast upwards\n",
    "more_ints"
   ]
  },
  {
   "cell_type": "code",
   "execution_count": 14,
   "id": "b5b8ddb8-f181-4c23-863a-9c6ab96413d3",
   "metadata": {},
   "outputs": [
    {
     "data": {
      "text/plain": [
       "tensor([[1, 2, 3],\n",
       "        [4, 5, 6],\n",
       "        [0, 3, 6]], dtype=torch.int8)"
      ]
     },
     "execution_count": 14,
     "metadata": {},
     "output_type": "execute_result"
    }
   ],
   "source": [
    "more_ints.to(torch.int32)\n",
    "more_ints"
   ]
  },
  {
   "cell_type": "code",
   "execution_count": 15,
   "id": "8c139370-e84e-4dae-b945-7f9d76428ccf",
   "metadata": {},
   "outputs": [
    {
     "data": {
      "text/plain": [
       "tensor([[ 3.2130,  6.4260,  9.6390],\n",
       "        [12.8520, 16.0650, 19.2780],\n",
       "        [ 0.0000,  9.6390, 19.2780]])"
      ]
     },
     "execution_count": 15,
     "metadata": {},
     "output_type": "execute_result"
    }
   ],
   "source": [
    "torch.multiply(more_ints ,3.213)"
   ]
  },
  {
   "cell_type": "code",
   "execution_count": 16,
   "id": "8803e85a-9157-4683-a768-39a8b8629487",
   "metadata": {},
   "outputs": [
    {
     "data": {
      "text/plain": [
       "tensor([[1, 2, 3],\n",
       "        [4, 5, 6],\n",
       "        [0, 3, 6]], dtype=torch.int8)"
      ]
     },
     "execution_count": 16,
     "metadata": {},
     "output_type": "execute_result"
    }
   ],
   "source": [
    "more_ints "
   ]
  },
  {
   "cell_type": "code",
   "execution_count": 17,
   "id": "d30aacb5-6723-4ad5-a049-9ccd33a08dda",
   "metadata": {},
   "outputs": [],
   "source": [
    "more_ints = torch.mul(more_ints , 3.14)"
   ]
  },
  {
   "cell_type": "code",
   "execution_count": 18,
   "id": "5e4dc33a-dfcf-4786-aec6-512945ee276c",
   "metadata": {},
   "outputs": [
    {
     "data": {
      "text/plain": [
       "(tensor([[ 3.1400,  6.2800,  9.4200],\n",
       "         [12.5600, 15.7000, 18.8400],\n",
       "         [ 0.0000,  9.4200, 18.8400]]),\n",
       " torch.float32)"
      ]
     },
     "execution_count": 18,
     "metadata": {},
     "output_type": "execute_result"
    }
   ],
   "source": [
    "more_ints, more_ints.dtype"
   ]
  },
  {
   "cell_type": "code",
   "execution_count": 19,
   "id": "1d8b259a-0d58-41f3-a40a-edc05785f962",
   "metadata": {},
   "outputs": [
    {
     "data": {
      "text/plain": [
       "(tensor([ 1,  2,  3, 35]), torch.int64)"
      ]
     },
     "execution_count": 19,
     "metadata": {},
     "output_type": "execute_result"
    }
   ],
   "source": [
    "some_ints, some_ints.dtype"
   ]
  },
  {
   "cell_type": "code",
   "execution_count": 20,
   "id": "2603706f-50c6-4340-8b3b-44068609582d",
   "metadata": {},
   "outputs": [
    {
     "data": {
      "text/plain": [
       "(tensor([  3.1200,   6.2400,   9.3600, 109.2000]), torch.float32)"
      ]
     },
     "execution_count": 20,
     "metadata": {},
     "output_type": "execute_result"
    }
   ],
   "source": [
    "some_ints = some_ints * 3.12\n",
    "some_ints, some_ints.dtype"
   ]
  }
 ],
 "metadata": {
  "kernelspec": {
   "display_name": "Python 3 (ipykernel)",
   "language": "python",
   "name": "python3"
  },
  "language_info": {
   "codemirror_mode": {
    "name": "ipython",
    "version": 3
   },
   "file_extension": ".py",
   "mimetype": "text/x-python",
   "name": "python",
   "nbconvert_exporter": "python",
   "pygments_lexer": "ipython3",
   "version": "3.12.5"
  }
 },
 "nbformat": 4,
 "nbformat_minor": 5
}
